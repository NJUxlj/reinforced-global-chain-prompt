{
 "cells": [
  {
   "cell_type": "code",
   "execution_count": null,
   "metadata": {},
   "outputs": [],
   "source": [
    "from accelerate import Accelerator  \n",
    "\n",
    "# 创建一个Accelerator实例，并设置日志存储路径logging_dir  \n",
    "accelerator = Accelerator(logging_dir=\"./logs\") "
   ]
  }
 ],
 "metadata": {
  "language_info": {
   "name": "python"
  }
 },
 "nbformat": 4,
 "nbformat_minor": 2
}
